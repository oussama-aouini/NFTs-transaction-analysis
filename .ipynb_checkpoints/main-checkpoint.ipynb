{
 "cells": [
  {
   "cell_type": "code",
   "execution_count": 1,
   "id": "b06b66fe-e9fa-4193-a091-00c5e8bef755",
   "metadata": {},
   "outputs": [],
   "source": [
    "import requests \n",
    "import pandas as pd\n",
    "from datetime import datetime, timedelta"
   ]
  },
  {
   "cell_type": "code",
   "execution_count": 2,
   "id": "bbd1ae17-4937-4c8c-be04-5bddb1949ee7",
   "metadata": {},
   "outputs": [],
   "source": [
    "# Load Data from ME API\n",
    "\n",
    "collection_name = 'vaxxed_doggos'\n",
    "responses = []\n",
    "i = 0\n",
    "while True:\n",
    "    url = f\"https://api-mainnet.magiceden.dev/v2/collections/{collection_name}/activities?offset={500 * i}&limit=500\"\n",
    "    response = requests.get(url)\n",
    "    if response.text == '[]':\n",
    "        break\n",
    "    else :\n",
    "        responses.append(response)\n",
    "        i += 1\n",
    "json_data = []\n",
    "for i in range(len(responses)):\n",
    "    json_data += responses[i].json()"
   ]
  },
  {
   "cell_type": "code",
   "execution_count": 3,
   "id": "40ab6e1c-5776-40c0-bb81-0ff2b2dc22de",
   "metadata": {},
   "outputs": [],
   "source": [
    "# Load Json data to a dataframe and drop unnecessary columns  \n",
    "\n",
    "data = pd.DataFrame(json_data)\n",
    "columns_to_drop = [\"signature\", \"source\", \"tokenMint\" ,\"collection\" ,\"slot\", \"buyer\", \"buyerReferral\" ,\"seller\" , \"sellerReferral\"]\n",
    "data.drop(columns_to_drop , axis=1, inplace=True)"
   ]
  },
  {
   "cell_type": "code",
   "execution_count": 6,
   "id": "11b2511b-5ee0-495b-ab78-492449d80afe",
   "metadata": {},
   "outputs": [],
   "source": [
    "# Convert Unix timestamp to date & add it to the dataframe\n",
    "\n",
    "dates = []\n",
    "for i in range(len(json_data)):\n",
    "    dates.append(datetime.fromtimestamp(int(json_data[i]['blockTime'])).strftime('%Y-%m-%d'))\n",
    "\n",
    "data['date'] = dates\n",
    "# data = data.sort_values(by='blockTime', ascending=True).reset_index(drop=True)\n",
    "# data.set_index('date', drop=True, append=False, inplace=False, verify_integrity=False)"
   ]
  },
  {
   "cell_type": "markdown",
   "id": "abe85643-7708-464f-b395-0460d8247de0",
   "metadata": {
    "tags": []
   },
   "source": [
    "# EDA"
   ]
  },
  {
   "cell_type": "code",
   "execution_count": 7,
   "id": "ce92134a-fcf0-47cd-a90f-60020751ca95",
   "metadata": {},
   "outputs": [
    {
     "data": {
      "text/plain": [
       "(1000, 4)"
      ]
     },
     "execution_count": 7,
     "metadata": {},
     "output_type": "execute_result"
    }
   ],
   "source": [
    "data.shape"
   ]
  },
  {
   "cell_type": "code",
   "execution_count": 49,
   "id": "47ebaf08-78c0-4222-9191-912e30951178",
   "metadata": {},
   "outputs": [
    {
     "data": {
      "text/plain": [
       "count       1000\n",
       "unique         5\n",
       "top       buyNow\n",
       "freq         535\n",
       "Name: type, dtype: object"
      ]
     },
     "execution_count": 49,
     "metadata": {},
     "output_type": "execute_result"
    }
   ],
   "source": [
    "data.type.describe() "
   ]
  },
  {
   "cell_type": "code",
   "execution_count": 23,
   "id": "e3e1d9f8-79bf-4102-943c-203b1b4770f1",
   "metadata": {},
   "outputs": [
    {
     "data": {
      "text/plain": [
       "array(['buyNow', 'list', 'delist', 'bid', 'cancelBid'], dtype=object)"
      ]
     },
     "execution_count": 23,
     "metadata": {},
     "output_type": "execute_result"
    }
   ],
   "source": [
    "data.type.unique()"
   ]
  },
  {
   "cell_type": "code",
   "execution_count": 24,
   "id": "332d410e-8179-4d4b-96fa-52135861fda8",
   "metadata": {},
   "outputs": [
    {
     "data": {
      "text/plain": [
       "buyNow       544\n",
       "list         288\n",
       "delist        91\n",
       "bid           59\n",
       "cancelBid     18\n",
       "Name: type, dtype: int64"
      ]
     },
     "execution_count": 24,
     "metadata": {},
     "output_type": "execute_result"
    }
   ],
   "source": [
    "data.type.value_counts()"
   ]
  },
  {
   "cell_type": "markdown",
   "id": "57ffd72e-6794-48d7-b45b-268890ab9794",
   "metadata": {
    "tags": []
   },
   "source": [
    "# Data Preparation"
   ]
  },
  {
   "cell_type": "code",
   "execution_count": null,
   "id": "7f941519-cac2-4b8a-801a-4e7fbd03140c",
   "metadata": {},
   "outputs": [
    {
     "data": {
      "text/html": [
       "<div>\n",
       "<style scoped>\n",
       "    .dataframe tbody tr th:only-of-type {\n",
       "        vertical-align: middle;\n",
       "    }\n",
       "\n",
       "    .dataframe tbody tr th {\n",
       "        vertical-align: top;\n",
       "    }\n",
       "\n",
       "    .dataframe thead th {\n",
       "        text-align: right;\n",
       "    }\n",
       "</style>\n",
       "<table border=\"1\" class=\"dataframe\">\n",
       "  <thead>\n",
       "    <tr style=\"text-align: right;\">\n",
       "      <th></th>\n",
       "      <th>Time</th>\n",
       "      <th>Lag</th>\n",
       "    </tr>\n",
       "  </thead>\n",
       "  <tbody>\n",
       "    <tr>\n",
       "      <th>2022-02-05</th>\n",
       "      <td>NaN</td>\n",
       "      <td>NaN</td>\n",
       "    </tr>\n",
       "    <tr>\n",
       "      <th>2022-02-06</th>\n",
       "      <td>NaN</td>\n",
       "      <td>NaN</td>\n",
       "    </tr>\n",
       "    <tr>\n",
       "      <th>2022-02-07</th>\n",
       "      <td>NaN</td>\n",
       "      <td>NaN</td>\n",
       "    </tr>\n",
       "    <tr>\n",
       "      <th>2022-02-08</th>\n",
       "      <td>NaN</td>\n",
       "      <td>NaN</td>\n",
       "    </tr>\n",
       "    <tr>\n",
       "      <th>2022-02-09</th>\n",
       "      <td>NaN</td>\n",
       "      <td>NaN</td>\n",
       "    </tr>\n",
       "    <tr>\n",
       "      <th>...</th>\n",
       "      <td>...</td>\n",
       "      <td>...</td>\n",
       "    </tr>\n",
       "    <tr>\n",
       "      <th>2022-04-26</th>\n",
       "      <td>NaN</td>\n",
       "      <td>NaN</td>\n",
       "    </tr>\n",
       "    <tr>\n",
       "      <th>2022-04-27</th>\n",
       "      <td>NaN</td>\n",
       "      <td>NaN</td>\n",
       "    </tr>\n",
       "    <tr>\n",
       "      <th>2022-04-28</th>\n",
       "      <td>NaN</td>\n",
       "      <td>NaN</td>\n",
       "    </tr>\n",
       "    <tr>\n",
       "      <th>2022-04-29</th>\n",
       "      <td>NaN</td>\n",
       "      <td>NaN</td>\n",
       "    </tr>\n",
       "    <tr>\n",
       "      <th>2022-04-30</th>\n",
       "      <td>NaN</td>\n",
       "      <td>NaN</td>\n",
       "    </tr>\n",
       "  </tbody>\n",
       "</table>\n",
       "<p>85 rows × 2 columns</p>\n",
       "</div>"
      ],
      "text/plain": [
       "           Time  Lag\n",
       "2022-02-05  NaN  NaN\n",
       "2022-02-06  NaN  NaN\n",
       "2022-02-07  NaN  NaN\n",
       "2022-02-08  NaN  NaN\n",
       "2022-02-09  NaN  NaN\n",
       "...         ...  ...\n",
       "2022-04-26  NaN  NaN\n",
       "2022-04-27  NaN  NaN\n",
       "2022-04-28  NaN  NaN\n",
       "2022-04-29  NaN  NaN\n",
       "2022-04-30  NaN  NaN\n",
       "\n",
       "[85 rows x 2 columns]"
      ]
     },
     "execution_count": 35,
     "metadata": {},
     "output_type": "execute_result"
    }
   ],
   "source": [
    "# Create a time series \n",
    "\n",
    "start = datetime.strptime(datetime.fromtimestamp(data.blockTime.min()).strftime('%Y-%m-%d'), '%Y-%m-%d')\n",
    "end = datetime.strptime(datetime.fromtimestamp(data.blockTime.max()).strftime('%Y-%m-%d'), '%Y-%m-%d')\n",
    "# date_list = [(start + timedelta(days=i)).strftime('%d-%m-%Y') for i in range(0, (end-start).days+1)]\n",
    "index = pd.date_range(start, periods=(end-start).days+1, freq='D')\n",
    "columns = ['Time','Lag']\n",
    "df = pd.DataFrame(index=index, columns=columns)\n",
    "df"
   ]
  },
  {
   "cell_type": "code",
   "execution_count": 32,
   "id": "cf9a7ecb-e521-40b1-9984-012a00565905",
   "metadata": {},
   "outputs": [],
   "source": [
    "# Preparing the num of sales data\n",
    "\n",
    "buyNow_data = data.loc[data.type == 'buyNow']\n",
    "\n",
    "start = datetime.strptime(buyNow_data.date.min(), '%Y-%m-%d')\n",
    "end = datetime.strptime(buyNow_data.date.max(), '%Y-%m-%d') \n",
    "\n",
    "\n",
    "index = pd.date_range(start, periods=(end-start).days+1, freq='D')\n",
    "columns = ['Sales']\n",
    "sales_data = pd.DataFrame(index=index, columns=columns)\n",
    "\n",
    "buyNow_data = buyNow_data.groupby('date').date.count()\n",
    "\n",
    "for index, value in buyNow_data.items():\n",
    "    sales_data.loc[index] = value\n",
    "    "
   ]
  },
  {
   "cell_type": "code",
   "execution_count": 32,
   "id": "308f9dc8-6191-4c95-8e08-c64e576eb61a",
   "metadata": {},
   "outputs": [],
   "source": [
    "# Preparing the floor price data\n",
    "floor_price_data = data.loc[data.type.isin(['buyNow','list'])]\n",
    "floor_price_data = pd.DataFrame(floor_price_data.groupby('date').price.min())\n",
    "floor_price_data.rename(columns = {'price':'floor price'}, inplace = True)\n",
    "# floor_price_data"
   ]
  },
  {
   "cell_type": "code",
   "execution_count": 34,
   "id": "a6b7d27d-ac3d-4f88-8600-64fb687dc619",
   "metadata": {},
   "outputs": [],
   "source": [
    "# Preparing the daily avg sale data\n",
    "\n",
    "avg_price_data = data.loc[data.type == 'buyNow']\n",
    "avg_price_data = pd.DataFrame(avg_price_data.groupby('date').price.mean())\n",
    "avg_price_data.rename(columns = {'price':'avg price'}, inplace = True)\n",
    "# avg_price_data"
   ]
  },
  {
   "cell_type": "markdown",
   "id": "dbb21261-4461-4c4a-a26e-f3b5c7a2785d",
   "metadata": {
    "tags": []
   },
   "source": [
    "# Time series"
   ]
  },
  {
   "cell_type": "markdown",
   "id": "3986b6d0-7e6a-40ab-88e5-dcbea8dce0ce",
   "metadata": {
    "tags": []
   },
   "source": [
    "## Linear Regression"
   ]
  },
  {
   "cell_type": "code",
   "execution_count": null,
   "id": "0559de54-1db7-4e5a-85d9-3909cc222dad",
   "metadata": {},
   "outputs": [],
   "source": []
  }
 ],
 "metadata": {
  "kernelspec": {
   "display_name": "Python 3 (ipykernel)",
   "language": "python",
   "name": "python3"
  },
  "language_info": {
   "codemirror_mode": {
    "name": "ipython",
    "version": 3
   },
   "file_extension": ".py",
   "mimetype": "text/x-python",
   "name": "python",
   "nbconvert_exporter": "python",
   "pygments_lexer": "ipython3",
   "version": "3.9.7"
  }
 },
 "nbformat": 4,
 "nbformat_minor": 5
}
